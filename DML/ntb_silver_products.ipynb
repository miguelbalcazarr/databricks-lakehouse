{
 "cells": [
  {
   "cell_type": "code",
   "execution_count": 0,
   "metadata": {
    "application/vnd.databricks.v1+cell": {
     "cellMetadata": {
      "byteLimit": 2048000,
      "rowLimit": 10000
     },
     "inputWidgets": {},
     "nuid": "df1a3e93-edf6-4614-bbe3-b22de60a6188",
     "showTitle": false,
     "tableResultSettingsMap": {},
     "title": ""
    }
   },
   "outputs": [],
   "source": [
    "from pyspark.sql.functions import *\n",
    "from delta.tables import DeltaTable"
   ]
  },
  {
   "cell_type": "code",
   "execution_count": 0,
   "metadata": {
    "application/vnd.databricks.v1+cell": {
     "cellMetadata": {
      "byteLimit": 2048000,
      "rowLimit": 10000
     },
     "inputWidgets": {},
     "nuid": "72cbc76b-3a73-4a7e-8d3e-ca5c3666c1f8",
     "showTitle": false,
     "tableResultSettingsMap": {},
     "title": ""
    }
   },
   "outputs": [],
   "source": [
    "container = dbutils.secrets.get(\"scope-mbc\", \"secret-env-container\")\n",
    "storage_account = dbutils.secrets.get(\"scope-mbc\", \"secret-env-storage-account\")\n",
    "path_base = f\"abfss://{container}@{storage_account}.dfs.core.windows.net\"\n",
    "\n",
    "path_checkpoint = f\"{path_base}/checkpoints/silver/silver.products/\""
   ]
  },
  {
   "cell_type": "code",
   "execution_count": 0,
   "metadata": {
    "application/vnd.databricks.v1+cell": {
     "cellMetadata": {
      "byteLimit": 2048000,
      "rowLimit": 10000
     },
     "inputWidgets": {},
     "nuid": "1593ce28-3c6b-4612-86bb-eec94a85e0dc",
     "showTitle": false,
     "tableResultSettingsMap": {},
     "title": ""
    }
   },
   "outputs": [],
   "source": [
    "def upsert_to_silver(batch_df, batch_id):\n",
    "\n",
    "    # 1. Transformaciones de casteo\n",
    "    df_transformed = (\n",
    "        batch_df\n",
    "        .select(\n",
    "            col(\"product_id\").cast(\"int\"),\n",
    "            col(\"product_name\").cast(\"string\"),\n",
    "            col(\"brand_id\").cast(\"int\"),\n",
    "            col(\"category_id\").cast(\"int\"),\n",
    "            col(\"model_year\").cast(\"smallint\"),\n",
    "            col(\"list_price\").cast(\"decimal(10,2)\")\n",
    "        )\n",
    "        .dropDuplicates([\"product_id\"])  # deduplicación \n",
    "    )\n",
    "\n",
    "    # 2. Upsert con MERGE a tabla destino Delta\n",
    "    delta_target = DeltaTable.forName(spark, \"silver.products\")\n",
    "\n",
    "    (\n",
    "        delta_target.alias(\"target\")\n",
    "        .merge(\n",
    "            df_transformed.alias(\"source\"),\n",
    "            \"target.product_id = source.product_id\"\n",
    "        )\n",
    "        .whenMatchedUpdateAll()\n",
    "        .whenNotMatchedInsertAll()\n",
    "        .execute()\n",
    "    )"
   ]
  },
  {
   "cell_type": "code",
   "execution_count": 0,
   "metadata": {
    "application/vnd.databricks.v1+cell": {
     "cellMetadata": {
      "byteLimit": 2048000,
      "rowLimit": 10000
     },
     "inputWidgets": {},
     "nuid": "1c6dd6d6-37ca-4d7a-aae1-4081da83e6a6",
     "showTitle": false,
     "tableResultSettingsMap": {},
     "title": ""
    }
   },
   "outputs": [],
   "source": [
    "df_stream = (\n",
    "    spark.readStream\n",
    "    .table(\"kyndryl.bronze.products\")\n",
    "    .writeStream\n",
    "    .foreachBatch(upsert_to_silver)\n",
    "    .option(\"checkpointLocation\", path_checkpoint)\n",
    "    .outputMode(\"append\")  # o \"append\"\n",
    "    .start()\n",
    ")"
   ]
  }
 ],
 "metadata": {
  "application/vnd.databricks.v1+notebook": {
   "computePreferences": null,
   "dashboards": [],
   "environmentMetadata": {
    "base_environment": "",
    "environment_version": "2"
   },
   "inputWidgetPreferences": null,
   "language": "python",
   "notebookMetadata": {
    "pythonIndentUnit": 4
   },
   "notebookName": "ntb_silver_products",
   "widgets": {}
  },
  "language_info": {
   "name": "python"
  }
 },
 "nbformat": 4,
 "nbformat_minor": 0
}
