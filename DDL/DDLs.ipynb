{
 "cells": [
  {
   "cell_type": "markdown",
   "metadata": {
    "application/vnd.databricks.v1+cell": {
     "cellMetadata": {},
     "inputWidgets": {},
     "nuid": "2b197613-f660-416c-8cd8-6cca491cb064",
     "showTitle": false,
     "tableResultSettingsMap": {},
     "title": ""
    }
   },
   "source": [
    "## Secrets"
   ]
  },
  {
   "cell_type": "code",
   "execution_count": 0,
   "metadata": {
    "application/vnd.databricks.v1+cell": {
     "cellMetadata": {
      "byteLimit": 2048000,
      "rowLimit": 10000
     },
     "inputWidgets": {},
     "nuid": "793924d7-3382-497f-9fbe-8cc347079075",
     "showTitle": false,
     "tableResultSettingsMap": {},
     "title": ""
    }
   },
   "outputs": [],
   "source": [
    "dbutils.secrets.list('scope-mbc')"
   ]
  },
  {
   "cell_type": "markdown",
   "metadata": {
    "application/vnd.databricks.v1+cell": {
     "cellMetadata": {},
     "inputWidgets": {},
     "nuid": "902866e4-c1da-469e-abfe-a5a26e2ff472",
     "showTitle": false,
     "tableResultSettingsMap": {},
     "title": ""
    }
   },
   "source": [
    "## Schemas"
   ]
  },
  {
   "cell_type": "code",
   "execution_count": 0,
   "metadata": {
    "application/vnd.databricks.v1+cell": {
     "cellMetadata": {
      "byteLimit": 2048000,
      "implicitDf": true,
      "rowLimit": 10000
     },
     "inputWidgets": {},
     "nuid": "67963c8a-8214-4357-a74f-3f903abc7ba4",
     "showTitle": false,
     "tableResultSettingsMap": {},
     "title": ""
    }
   },
   "outputs": [],
   "source": [
    "%sql\n",
    "\n",
    "create schema if not exists kyndryl.auditoria;\n",
    "create schema if not exists kyndryl.bronze;\n",
    "create schema if not exists kyndryl.silver;\n",
    "create schema if not exists kyndryl.gold;"
   ]
  },
  {
   "cell_type": "markdown",
   "metadata": {
    "application/vnd.databricks.v1+cell": {
     "cellMetadata": {},
     "inputWidgets": {},
     "nuid": "0ce51572-f024-44a3-a2d3-8f631fd94a18",
     "showTitle": false,
     "tableResultSettingsMap": {},
     "title": ""
    }
   },
   "source": [
    "## Tablas Auditoria"
   ]
  },
  {
   "cell_type": "code",
   "execution_count": 0,
   "metadata": {
    "application/vnd.databricks.v1+cell": {
     "cellMetadata": {},
     "collapsed": true,
     "inputWidgets": {},
     "nuid": "a9c95c19-d49c-45cd-ae9e-e8ad8b261eca",
     "showTitle": false,
     "tableResultSettingsMap": {},
     "title": ""
    }
   },
   "outputs": [],
   "source": [
    "%sql\n",
    "\n",
    "create or replace table kyndryl.auditoria.parametros(\n",
    "proceso string,\n",
    "query_origen string,\n",
    "path_landing string,\n",
    "tabla_bronze string,\n",
    "activo string\n",
    ");"
   ]
  },
  {
   "cell_type": "markdown",
   "metadata": {
    "application/vnd.databricks.v1+cell": {
     "cellMetadata": {},
     "inputWidgets": {},
     "nuid": "11b2a43e-575b-4719-8f66-55421b545c6d",
     "showTitle": false,
     "tableResultSettingsMap": {},
     "title": ""
    }
   },
   "source": [
    "## Tablas Bronze"
   ]
  },
  {
   "cell_type": "code",
   "execution_count": 0,
   "metadata": {
    "application/vnd.databricks.v1+cell": {
     "cellMetadata": {
      "byteLimit": 2048000,
      "implicitDf": true,
      "rowLimit": 10000
     },
     "collapsed": true,
     "inputWidgets": {},
     "nuid": "e0865143-0baa-45fe-abfd-fab6d7b2bfae",
     "showTitle": false,
     "tableResultSettingsMap": {},
     "title": ""
    }
   },
   "outputs": [],
   "source": [
    "%sql\n",
    "\n",
    "create or replace table kyndryl.bronze.categories(\n",
    "    category_id string PRIMARY KEY,\n",
    "    category_name string,\n",
    "    ingestion_timestamp timestamp\n",
    ");\n",
    "\n",
    "create or replace table kyndryl.bronze.brands(\n",
    "    brand_id string PRIMARY KEY,\n",
    "    brand_name string,\n",
    "    ingestion_timestamp timestamp\n",
    ");\n",
    "\n",
    "create or replace table kyndryl.bronze.products(\n",
    "    product_id string PRIMARY KEY,\n",
    "    product_name string,\n",
    "    brand_id string,\n",
    "    category_id string,\n",
    "    model_year string,\n",
    "    list_price string,\n",
    "    ingestion_timestamp timestamp\n",
    ");\n",
    "\n",
    "create or replace table kyndryl.bronze.stocks(\n",
    "    store_id string,\n",
    "    product_id string,\n",
    "    quantity string,\n",
    "    ingestion_timestamp timestamp,\n",
    "    primary key(store_id, product_id)\n",
    ");\n",
    "\n",
    "create or replace table kyndryl.bronze.stores(\n",
    "    store_id string PRIMARY KEY,\n",
    "    store_name string,\n",
    "    phone string,\n",
    "    email string,\n",
    "    street string,\n",
    "    city string,\n",
    "    state string,\n",
    "    zip_code string,\n",
    "    ingestion_timestamp timestamp\n",
    ");\n",
    "\n",
    "create or replace table kyndryl.bronze.staffs(\n",
    "    staff_id string PRIMARY KEY,\n",
    "    first_name string,\n",
    "    last_name string,\n",
    "    email string,\n",
    "    phone string,\n",
    "    active string,\n",
    "    store_id string,\n",
    "    manager_id string,\n",
    "    ingestion_timestamp timestamp\n",
    ");\n",
    "\n",
    "create or replace table kyndryl.bronze.customers(\n",
    "    customer_id string PRIMARY KEY,\n",
    "    first_name string,\n",
    "    last_name string,\n",
    "    phone string,\n",
    "    email string,\n",
    "    street string,\n",
    "    city string,\n",
    "    state string,\n",
    "    zip_code string,\n",
    "    ingestion_timestamp timestamp\n",
    ");\n",
    "\n",
    "create or replace table kyndryl.bronze.orders(\n",
    "    order_id string PRIMARY KEY,\n",
    "    customer_id string,\n",
    "    order_status string,\n",
    "    order_date string,\n",
    "    required_date string,\n",
    "    shipped_date string,\n",
    "    store_id string,\n",
    "    staff_id string,\n",
    "    ingestion_timestamp timestamp\n",
    ");\n",
    "\n",
    "create or replace table kyndryl.bronze.order_items(\n",
    "    order_id string,\n",
    "    item_id string,\n",
    "    product_id string,\n",
    "    quantity string,\n",
    "    list_price string,\n",
    "    discount string,\n",
    "    ingestion_timestamp timestamp,\n",
    "    primary key(order_id, item_id)\n",
    ");"
   ]
  },
  {
   "cell_type": "markdown",
   "metadata": {
    "application/vnd.databricks.v1+cell": {
     "cellMetadata": {},
     "inputWidgets": {},
     "nuid": "feceada6-ed38-4080-941c-2088c9c39e63",
     "showTitle": false,
     "tableResultSettingsMap": {},
     "title": ""
    }
   },
   "source": [
    "## Tablas Silver"
   ]
  },
  {
   "cell_type": "code",
   "execution_count": 0,
   "metadata": {
    "application/vnd.databricks.v1+cell": {
     "cellMetadata": {
      "byteLimit": 2048000,
      "implicitDf": true,
      "rowLimit": 10000
     },
     "inputWidgets": {},
     "nuid": "a388c46e-1217-4d73-b998-1d281c0d2eca",
     "showTitle": false,
     "tableResultSettingsMap": {},
     "title": ""
    }
   },
   "outputs": [],
   "source": [
    "%sql\n",
    "CREATE TABLE IF NOT EXISTS silver.products (\n",
    "    product_id INT,\n",
    "    product_name STRING,\n",
    "    brand_id INT,\n",
    "    category_id INT,\n",
    "    model_year SMALLINT,\n",
    "    list_price DECIMAL(10,2),\n",
    "    model_year_clean SMALLINT,\n",
    "    list_price_clean DECIMAL(10,2),\n",
    "    is_active BOOLEAN,\n",
    "    processed_at TIMESTAMP,\n",
    "    source_system STRING\n",
    ");\n",
    "\n",
    "CREATE TABLE IF NOT EXISTS silver.orders (\n",
    "    order_id INT,\n",
    "    customer_id INT,\n",
    "    order_status TINYINT,\n",
    "    order_status_desc STRING,\n",
    "    order_date DATE,\n",
    "    required_date DATE,\n",
    "    shipped_date DATE,\n",
    "    store_id INT,\n",
    "    staff_id INT,\n",
    "    is_on_time BOOLEAN,\n",
    "    days_to_ship INT,\n",
    "    processed_at TIMESTAMP,\n",
    "    source_system STRING\n",
    ");\n",
    "\n",
    "CREATE TABLE IF NOT EXISTS silver.order_items (\n",
    "    order_id INT,\n",
    "    item_id INT,\n",
    "    product_id INT,\n",
    "    quantity INT,\n",
    "    list_price DECIMAL(10,2),\n",
    "    discount DECIMAL(4,2),\n",
    "    total_price DECIMAL(10,2),\n",
    "    discount_percentage INT,\n",
    "    processed_at TIMESTAMP,\n",
    "    source_system STRING,\n",
    "    PRIMARY KEY (order_id, item_id)\n",
    ");"
   ]
  },
  {
   "cell_type": "markdown",
   "metadata": {
    "application/vnd.databricks.v1+cell": {
     "cellMetadata": {},
     "inputWidgets": {},
     "nuid": "cdfcabb6-cc15-48b3-a164-d134fa4c4987",
     "showTitle": false,
     "tableResultSettingsMap": {},
     "title": ""
    }
   },
   "source": [
    "## Insert parametros"
   ]
  },
  {
   "cell_type": "code",
   "execution_count": 0,
   "metadata": {
    "application/vnd.databricks.v1+cell": {
     "cellMetadata": {
      "byteLimit": 2048000,
      "implicitDf": true,
      "rowLimit": 10000
     },
     "collapsed": true,
     "inputWidgets": {},
     "nuid": "2505aba4-de5f-4bb3-bfd7-856e99ced4ce",
     "showTitle": false,
     "tableResultSettingsMap": {},
     "title": ""
    }
   },
   "outputs": [],
   "source": [
    "%sql\n",
    "\n",
    "delete from kyndryl.auditoria.parametros;\n",
    "\n",
    "insert into kyndryl.auditoria.parametros\n",
    "values\n",
    "(\"proceso_production\",\n",
    " \"SELECT \n",
    "    category_id,\n",
    "    category_name\n",
    "FROM \n",
    "    production.categories\",\n",
    "  \"categories\", \"bronze.categories\",\"1\"),\n",
    "(\"proceso_production\",\n",
    " \"SELECT \n",
    "    brand_id,\n",
    "    brand_name\n",
    "FROM \n",
    "    production.brands\",\n",
    "  \"brands\", \"bronze.brands\",\"1\"),\n",
    "(\"proceso_production\",\n",
    " \"SELECT \n",
    "    product_id,\n",
    "    product_name,\n",
    "    brand_id,\n",
    "    category_id,\n",
    "    model_year,\n",
    "    list_price\n",
    "FROM \n",
    "    production.products\",\n",
    "  \"products\", \"bronze.products\",\"1\"),\n",
    "(\"proceso_production\",\n",
    " \"SELECT \n",
    "    store_id,\n",
    "    product_id,\n",
    "    quantity\n",
    "FROM \n",
    "    production.stocks\",\n",
    "  \"stocks\", \"bronze.stocks\",\"1\"),\n",
    "(\"proceso_sales\",\n",
    " \"SELECT \n",
    "    store_id,\n",
    "    store_name,\n",
    "    phone,\n",
    "    email,\n",
    "    street,\n",
    "    city,\n",
    "    state,\n",
    "    zip_code\n",
    "FROM \n",
    "    sales.stores\",\n",
    "  \"stores\", \"bronze.stores\",\"1\"),\n",
    "(\"proceso_sales\",\n",
    " \"SELECT \n",
    "    staff_id,\n",
    "    first_name,\n",
    "    last_name,\n",
    "    email,\n",
    "    phone,\n",
    "    active,\n",
    "    store_id,\n",
    "    manager_id\n",
    "FROM \n",
    "    sales.staffs\",\n",
    "  \"staffs\", \"bronze.staffs\",\"1\"),\n",
    "(\"proceso_sales\",\n",
    " \"SELECT \n",
    "    customer_id,\n",
    "    first_name,\n",
    "    last_name,\n",
    "    phone,\n",
    "    email,\n",
    "    street,\n",
    "    city,\n",
    "    state,\n",
    "    zip_code\n",
    "FROM \n",
    "    sales.customers\",\n",
    "  \"customers\", \"bronze.customers\",\"1\"),\n",
    "(\"proceso_sales\",\n",
    " \"SELECT \n",
    "    order_id,\n",
    "    customer_id,\n",
    "    order_status,\n",
    "    order_date,\n",
    "    required_date,\n",
    "    shipped_date,\n",
    "    store_id,\n",
    "    staff_id\n",
    "FROM \n",
    "    sales.orders\",\n",
    "  \"orders\", \"bronze.orders\",\"1\"),\n",
    "(\"proceso_sales\",\n",
    " \"SELECT \n",
    "    order_id,\n",
    "    item_id,\n",
    "    product_id,\n",
    "    quantity,\n",
    "    list_price,\n",
    "    discount\n",
    "FROM \n",
    "    sales.order_items\",\n",
    "  \"order_items\", \"bronze.order_items\",\"1\");\n",
    "\n",
    "\n",
    "SELECT * FROM kyndryl.auditoria.parametros;"
   ]
  }
 ],
 "metadata": {
  "application/vnd.databricks.v1+notebook": {
   "computePreferences": null,
   "dashboards": [],
   "environmentMetadata": {
    "base_environment": "",
    "environment_version": "2"
   },
   "inputWidgetPreferences": null,
   "language": "python",
   "notebookMetadata": {
    "mostRecentlyExecutedCommandWithImplicitDF": {
     "commandId": 7984066999203348,
     "dataframes": [
      "_sqldf"
     ]
    },
    "pythonIndentUnit": 4
   },
   "notebookName": "DDLs",
   "widgets": {}
  },
  "language_info": {
   "name": "python"
  }
 },
 "nbformat": 4,
 "nbformat_minor": 0
}
